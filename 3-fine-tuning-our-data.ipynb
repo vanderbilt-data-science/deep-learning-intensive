{
 "cells": [
  {
   "cell_type": "markdown",
   "id": "8d4849f3-51e1-4299-9f55-9c70c1f1c431",
   "metadata": {},
   "source": [
    "# Fine-Tuning Models\n",
    "> Fine-tuning using your own data\n",
    "\n",
    "In this notebook, we'll use two references:https://huggingface.co/transformers/custom_datasets.html as a guide for our work.  We'll use the HuggingFace dataset we've already created and use it directly!"
   ]
  },
  {
   "cell_type": "markdown",
   "id": "0abbc1b7-f4b4-4cdd-93ed-ce92742fe4c6",
   "metadata": {},
   "source": [
    "### Install required packages\n",
    "Note that this is mostly required if you're on Google Colab."
   ]
  },
  {
   "cell_type": "code",
   "execution_count": null,
   "id": "6067752c-e281-4ffe-9140-828d158751a1",
   "metadata": {},
   "outputs": [],
   "source": [
    "#! pip install transformers\n",
    "#! pip install datasets"
   ]
  },
  {
   "cell_type": "markdown",
   "id": "b4b4f46c-e1c0-4abc-9498-a45211bcf9a6",
   "metadata": {},
   "source": [
    "### Import packages of interest"
   ]
  },
  {
   "cell_type": "code",
   "execution_count": null,
   "id": "6afa3949-c286-4a82-af4f-c5f7594a6c97",
   "metadata": {},
   "outputs": [],
   "source": [
    "import numpy as np\n",
    "import pandas as pd\n",
    "\n",
    "from datasets import load_dataset, load_metric, Dataset\n",
    "from transformers import pipeline\n",
    "from transformers import DataCollatorWithPadding\n",
    "from transformers import AutoTokenizer, AutoModelForSequenceClassification, TrainingArguments, Trainer\n",
    "\n",
    "from huggingface_hub import notebook_login"
   ]
  },
  {
   "cell_type": "markdown",
   "id": "6902fa8d-8192-4ab0-8f5f-9a0ddf6c34fd",
   "metadata": {},
   "source": [
    "# 0. Log into HuggingFace CLI\n",
    "Why are we doing this? Below, we'll use our own user accounts to grab datasets and upload models. If we don't do this, we'll have to pass in the auth token over. This isn't bad, but let's streamline our efforts!"
   ]
  },
  {
   "cell_type": "code",
   "execution_count": null,
   "id": "3a75fd3d-76d2-425f-be19-aace4db0e71a",
   "metadata": {},
   "outputs": [],
   "source": [
    "#!git config --global credential.helper store"
   ]
  },
  {
   "cell_type": "code",
   "execution_count": null,
   "id": "9d0b6acb-bf9e-4e5c-8764-90eed505a2fb",
   "metadata": {
    "tags": []
   },
   "outputs": [],
   "source": [
    "notebook_login()"
   ]
  },
  {
   "cell_type": "markdown",
   "id": "d0a371ec-98f5-4be7-b085-a2eed2f9c3d3",
   "metadata": {},
   "source": [
    "# 1. Load data from HuggingFace Hub or from disk"
   ]
  },
  {
   "cell_type": "code",
   "execution_count": null,
   "id": "fc4b6693-573c-4515-b3bc-0a70c43945c2",
   "metadata": {},
   "outputs": [],
   "source": [
    "#ds_path = \n",
    "#demo_ds = "
   ]
  },
  {
   "cell_type": "markdown",
   "id": "d558ecf4-e35b-4afa-a1aa-ca16e86ab432",
   "metadata": {},
   "source": [
    "# 2. Pre-process inputs\n",
    "What's a tokenizer and what does it do? Let's learn more using Huggingface's [instruction on tokenizers](https://huggingface.co/course/chapter2/4?fw=pt). Then, let's try it on our own!"
   ]
  },
  {
   "cell_type": "code",
   "execution_count": null,
   "id": "3d6a7940-ae31-4efe-9398-93da6b2b0aa7",
   "metadata": {},
   "outputs": [],
   "source": [
    "#instantiate tokenizer\n"
   ]
  },
  {
   "cell_type": "code",
   "execution_count": null,
   "id": "68d994af-196d-4dba-8c1b-95a75d8fa14b",
   "metadata": {},
   "outputs": [],
   "source": [
    "#define tokenizing function\n",
    "def tokenize_inputs(example):\n",
    "    "
   ]
  },
  {
   "cell_type": "code",
   "execution_count": null,
   "id": "39bc59e5-52b9-4449-8cda-bd94e88e980d",
   "metadata": {},
   "outputs": [],
   "source": [
    "#do the tokenizing using map function\n",
    "tokenized_ds = demo_ds.map(tokenize_inputs, batched=True,\n",
    "                           remove_columns = ['age', 'article_id', 'college_major',\n",
    "                                             'first_name', 'last_name', 'years_of_journalism',\n",
    "                                             'text'])"
   ]
  },
  {
   "cell_type": "code",
   "execution_count": null,
   "id": "2061e38a-4e26-4294-8a3f-99f3a51de49a",
   "metadata": {},
   "outputs": [],
   "source": []
  },
  {
   "cell_type": "markdown",
   "id": "15655b8b-45bb-4c3c-8ad8-dcd869beda5d",
   "metadata": {},
   "source": [
    "## An aside on tokenizer functionality\n",
    "We can do many things with tokenizers to help us to tokenize our data and process it. Let's check out these outputs further."
   ]
  },
  {
   "cell_type": "code",
   "execution_count": null,
   "id": "5fed0e3e-a3da-45b8-9c19-8749567c96fc",
   "metadata": {},
   "outputs": [],
   "source": [
    "#check out input IDs\n",
    "\n",
    "\n",
    "#compare against the text\n"
   ]
  },
  {
   "cell_type": "code",
   "execution_count": null,
   "id": "685e1f43-5182-4094-880b-05a02c71d5b1",
   "metadata": {},
   "outputs": [],
   "source": [
    "#check out the length of the list of lists\n",
    "\n",
    "\n",
    "#check out the length of a single element\n"
   ]
  },
  {
   "cell_type": "code",
   "execution_count": null,
   "id": "28141308-68b3-4f8e-affe-29b89118b201",
   "metadata": {},
   "outputs": [],
   "source": [
    "#convert input_ids to token representation\n"
   ]
  },
  {
   "cell_type": "code",
   "execution_count": null,
   "id": "51ac4262-3678-4bf7-844a-f91d1f4d56fe",
   "metadata": {},
   "outputs": [],
   "source": [
    "#see what this looks like as a string\n",
    "\n",
    "\n",
    "#another method directly from the input ids\n"
   ]
  },
  {
   "cell_type": "code",
   "execution_count": null,
   "id": "af725b84-ab00-413b-aa84-36be19efd62f",
   "metadata": {},
   "outputs": [],
   "source": [
    "#other information about tokenizer\n",
    "\n",
    "\n",
    "#see actual tokenizer vocab (we've abbreviated here)\n"
   ]
  },
  {
   "cell_type": "markdown",
   "id": "08845526-78fb-4096-bb4b-1ca13c7eda12",
   "metadata": {},
   "source": [
    "## An aside on dynamically padded batch size\n",
    "HF has the capacity to dynamically pad your batches such that each input is only as long as any given input in the batch. This helps with memory.You can learn more [here](https://huggingface.co/course/chapter3/2?fw=pt). For now, we'll simply instantiate a data collator and use it during training to demonstrate how we can do this."
   ]
  },
  {
   "cell_type": "code",
   "execution_count": null,
   "id": "df86dd09-500c-4a14-80c4-32d9a432c0dd",
   "metadata": {},
   "outputs": [],
   "source": [
    "#Instantiate data collator\n",
    "data_collator = DataCollatorWithPadding(tokenizer=tokenizer)"
   ]
  },
  {
   "cell_type": "markdown",
   "id": "3da664a0-b63c-450a-ae74-bab101d55ea1",
   "metadata": {},
   "source": [
    "# 3. Train model"
   ]
  },
  {
   "cell_type": "code",
   "execution_count": null,
   "id": "18a4f917-e0c2-468c-96b7-e5227d4868b6",
   "metadata": {},
   "outputs": [],
   "source": [
    "#recall that the dataset carries information about the classes\n"
   ]
  },
  {
   "cell_type": "code",
   "execution_count": null,
   "id": "9982ddbe-874e-435f-8ef8-376d1d2a9a4c",
   "metadata": {},
   "outputs": [],
   "source": [
    "#get the number of classes\n"
   ]
  },
  {
   "cell_type": "code",
   "execution_count": null,
   "id": "aac48afe-6596-47e0-8198-ed75e43becc2",
   "metadata": {},
   "outputs": [],
   "source": [
    "#get label conversions\n",
    "id2label = {ind:label for ind, label in enumerate(demo_ds['train'].features['label'].names)}\n",
    "label2id = {label:ind for ind, label in id2label.items()}"
   ]
  },
  {
   "cell_type": "code",
   "execution_count": null,
   "id": "6e366960-b4a0-4ce1-8bbd-f940bb07664d",
   "metadata": {},
   "outputs": [],
   "source": [
    "#check it out\n"
   ]
  },
  {
   "cell_type": "markdown",
   "id": "be6051da-9e43-48f2-baed-65e34b6488fb",
   "metadata": {},
   "source": [
    "## Define model and task architecture"
   ]
  },
  {
   "cell_type": "code",
   "execution_count": null,
   "id": "2606be9d-e38c-48dd-9a8b-73be81ab5d93",
   "metadata": {},
   "outputs": [],
   "source": [
    "# Choose the model type and instantiate it for the task\n"
   ]
  },
  {
   "cell_type": "markdown",
   "id": "cf580c86-c17e-47d2-b63a-39df13c0d373",
   "metadata": {},
   "source": [
    "## Define settings for basic model training and train"
   ]
  },
  {
   "cell_type": "code",
   "execution_count": null,
   "id": "a2aa3713-39b5-4b88-8d41-e2fe41a72ff8",
   "metadata": {},
   "outputs": [],
   "source": [
    "#set training arguments\n",
    "\n",
    "\n",
    "#setup training loop with arguments\n",
    "\n",
    "\n",
    "#train\n"
   ]
  },
  {
   "cell_type": "markdown",
   "id": "8ae4997a-389d-480f-9e0b-ca39f6391399",
   "metadata": {},
   "source": [
    "### Reflect and Discuss\n",
    "* Practically speaking, how is the model performing?"
   ]
  },
  {
   "cell_type": "markdown",
   "id": "7bc468b0-0f24-42aa-8642-3e8207394f42",
   "metadata": {},
   "source": [
    "## Training with performance metrics and saving checkpoints of the model"
   ]
  },
  {
   "cell_type": "code",
   "execution_count": null,
   "id": "53139608-67f6-417b-9d9c-9218c2f228f7",
   "metadata": {},
   "outputs": [],
   "source": [
    "#load a metric\n",
    "\n",
    "\n",
    "#define the metric behavior\n",
    "def compute_metrics(eval_pred):\n",
    "    logits, labels = eval_pred\n",
    "    predictions = np.argmax(logits, axis=-1)\n",
    "    return metric.compute(predictions=predictions, references=labels)"
   ]
  },
  {
   "cell_type": "code",
   "execution_count": null,
   "id": "d56b28b3-3eaa-438c-92b4-8931485b273b",
   "metadata": {},
   "outputs": [],
   "source": [
    "#set new training arguments\n",
    "training_args = TrainingArguments(\"test-trainer\",\n",
    "                                  logging_strategy = \"epoch\"\n",
    "                                  #fill other other arguments here\n",
    "                                 )\n",
    "\n",
    "#setup training loop\n",
    "trainer = Trainer(\n",
    "    model=model,\n",
    "    args=training_args,\n",
    "    tokenizer=tokenizer,\n",
    "    data_collator=data_collator,\n",
    "    train_dataset=tokenized_ds['train'],\n",
    "    eval_dataset=tokenized_ds['valid'],\n",
    "    #fill in other arguments here\n",
    ")\n",
    "\n",
    "#train model\n",
    "trainer.train()"
   ]
  },
  {
   "cell_type": "markdown",
   "id": "9b8cc97f-4c52-4147-ba03-b9c2f261632b",
   "metadata": {
    "tags": []
   },
   "source": [
    "### Reflect and Discuss\n",
    "* What new observations are present during model training?\n",
    "* What comments can you make on the performance of the model now?\n",
    "* What metrics are appropriate for your application?\n",
    "* Consider that model training is done in-memory (the model weights are updated in memory, but not returned), and both of our `Trainer`s trained our model `model`. After basic training from Step 9 and training from Step 10, how many epochs has the model been trained?"
   ]
  },
  {
   "cell_type": "markdown",
   "id": "169d6e99-ced3-4c06-90c0-be8291cd7fff",
   "metadata": {},
   "source": [
    "## A brief aside on resuming training from checkpoints"
   ]
  },
  {
   "cell_type": "code",
   "execution_count": null,
   "id": "b959b8a0-a8ae-4fbd-b619-8b154788992b",
   "metadata": {},
   "outputs": [],
   "source": [
    "#update the number of epochs (or steps) that you want to train for\n"
   ]
  },
  {
   "cell_type": "code",
   "execution_count": null,
   "id": "e8fbda02-a4e8-49c2-ad57-c8fedf149bf1",
   "metadata": {},
   "outputs": [],
   "source": [
    "#train some more, resuming from checkpoint\n"
   ]
  },
  {
   "cell_type": "markdown",
   "id": "c53e6f6e-a03b-475f-94a6-5aebc925164e",
   "metadata": {},
   "source": [
    "## A brief aside on performance metrics\n",
    "You may want to use other performance metrics than accuracy. Here are some [metrics available through Huggingface](https://huggingface.co/metrics). If you check out the metrics folder on the [Huggingface datasets](https://github.com/huggingface/datasets) repository, you'll be able to see what's necessary if you need to define another metric. Let's try a different metric!"
   ]
  },
  {
   "cell_type": "code",
   "execution_count": null,
   "id": "1ee093f3-a6ff-4134-9009-d7eaaf8760a1",
   "metadata": {},
   "outputs": [],
   "source": [
    "from sklearn.metrics import precision_recall_fscore_support\n",
    "\n",
    "def compute_metrics(eval_pred):\n",
    "    logits, labels = eval_pred\n",
    "    \n",
    "    #get predictions by using index of max logit\n",
    "    predictions = np.argmax(logits, axis=-1)\n",
    "    \n",
    "    #calculate classification report\n",
    "    perfs = precision_recall_fscore_support(labels, predictions, average='macro', zero_division=0)\n",
    "    perf_dict = dict(zip(['precision', 'recall', 'fscore'], perfs[:3]))\n",
    "    \n",
    "    #return dictionary\n",
    "    return perf_dict"
   ]
  },
  {
   "cell_type": "code",
   "execution_count": null,
   "id": "81ddbec9-7073-4dd3-a1cf-7e4213d54dfb",
   "metadata": {},
   "outputs": [],
   "source": [
    "#setup training loop\n",
    "trainer = Trainer(\n",
    "    model=model,\n",
    "    args=training_args,\n",
    "    tokenizer=tokenizer,\n",
    "    data_collator=data_collator,\n",
    "    train_dataset=tokenized_ds['train'],\n",
    "    eval_dataset=tokenized_ds['valid'],\n",
    "    compute_metrics=compute_metrics\n",
    ")\n",
    "\n",
    "trainer.train()"
   ]
  },
  {
   "cell_type": "markdown",
   "id": "5a4468a7-dba9-4ed2-8dd7-8ebd79f7eeec",
   "metadata": {
    "tags": []
   },
   "source": [
    "## A brief aside on model training - TRY IT YOURSELF!\n",
    "One of several points of ambiguity when training models is how long should they train for? A way to approach this is to monitor the models and run them repeatedly, starting from the last checkpoint. Another way is through training a number of epochs (if you model trains quickly enough) and then always load the best model according to some metric at the end. Let's take a look at this.\n",
    "\n",
    "We can realize this through `TrainingArguments`! In your breakout rooms, add the parameters which will enable the following:\n",
    "1. Load the best model at the end\n",
    "2. Set the metric for using the best model to one of our evaluation metrics\n",
    "3. Examine the `greater_is_better` parameter. Do you need to change it?\n",
    "4. Change the number of training epochs to something larger.\n",
    "5. Decrease the training batch size.\n",
    "6. Decrease the eval batch size.\n",
    "7. How can you change the logging, evaluation, and save strategies to step? What else might you need to change depending on the interval of steps that you want these activities to occur?\n",
    "\n",
    "Make sure this works, so run the cell!"
   ]
  },
  {
   "cell_type": "code",
   "execution_count": null,
   "id": "bec97fd1-8cb3-4912-b538-0b8dcb7bc2f2",
   "metadata": {},
   "outputs": [],
   "source": [
    "#set new training arguments\n",
    "training_args = TrainingArguments(\"test-trainer\",\n",
    "                                  logging_strategy = \"epoch\",\n",
    "                                  evaluation_strategy=\"epoch\",\n",
    "                                  save_strategy='epoch',\n",
    "                                  #add other parameters here!\n",
    "                                  #more parameters\n",
    "                                  #use as many lines as you need!\n",
    "                                  )\n",
    "\n",
    "#setup training loop\n",
    "trainer = Trainer(\n",
    "    model=model,\n",
    "    args=training_args,\n",
    "    tokenizer=tokenizer,\n",
    "    data_collator=data_collator,\n",
    "    train_dataset=tokenized_ds['train'],\n",
    "    eval_dataset=tokenized_ds['valid'],\n",
    "    compute_metrics=compute_metrics\n",
    ")\n",
    "\n",
    "#train model\n",
    "trainer.train()"
   ]
  },
  {
   "cell_type": "markdown",
   "id": "b6ba1189-3e5f-42ae-bfae-e79f85a439f5",
   "metadata": {},
   "source": [
    "# 4. Using trained model with `Trainer`\n",
    "## Evaluate"
   ]
  },
  {
   "cell_type": "code",
   "execution_count": null,
   "id": "bd5bd0ec-ec3f-4f0f-b52f-70c19f6a79b7",
   "metadata": {},
   "outputs": [],
   "source": []
  },
  {
   "cell_type": "markdown",
   "id": "c81f6ec1-24fb-43f7-a52a-1cdab4861fc5",
   "metadata": {},
   "source": [
    "## Predict"
   ]
  },
  {
   "cell_type": "code",
   "execution_count": null,
   "id": "83797f24-bcfb-405d-9f3a-01c8b26fd7ba",
   "metadata": {},
   "outputs": [],
   "source": []
  },
  {
   "cell_type": "markdown",
   "id": "a4ad2ce4-1806-4bf3-9b68-6afa33356b82",
   "metadata": {},
   "source": [
    "# 5. Sharing and saving your model\n",
    "## Using `Trainer`\n",
    "During training and using the Trainer class, you can also upload your model directly to HuggingFace Hub as it trains. Read more about this process on the [HF course documentation](https://huggingface.co/course/chapter4/3?fw=pt).\n",
    "\n",
    "Let's check out how to do this. It's as simple as modifying our `TrainingArguments`! Don't forget to have already logged in using your authorization token or use the `use_auth_token` paramter to access your HF account. You'll need to have git-lfs installed to use this feature, so if you're on Google Colab, you can execute the line below. You can also `conda install -c conda-forge git-lfs` if you're using a conda environment."
   ]
  },
  {
   "cell_type": "code",
   "execution_count": null,
   "id": "ff8824a1-893c-4dce-968a-a34fcfdc5d0a",
   "metadata": {},
   "outputs": [],
   "source": [
    "#!apt-get install git-lfs"
   ]
  },
  {
   "cell_type": "code",
   "execution_count": null,
   "id": "808627ea-510d-45a4-a847-614ee7ff6401",
   "metadata": {},
   "outputs": [],
   "source": [
    "#set new training arguments\n",
    "training_args = TrainingArguments(\"test-trainer\",\n",
    "                                  overwrite_output_dir=True,\n",
    "                                  logging_strategy = \"epoch\",\n",
    "                                  evaluation_strategy=\"epoch\",\n",
    "                                  save_strategy='epoch',\n",
    "                                  #new arguments\n",
    "                                  report_to='all')\n",
    "\n",
    "#setup training loop\n",
    "trainer = Trainer(\n",
    "    model=model,\n",
    "    args=training_args,\n",
    "    tokenizer=tokenizer,\n",
    "    data_collator=data_collator,\n",
    "    train_dataset=tokenized_ds['train'],\n",
    "    eval_dataset=tokenized_ds['valid'],\n",
    "    compute_metrics=compute_metrics\n",
    ")\n",
    "\n",
    "#train model\n",
    "trainer.train()"
   ]
  },
  {
   "cell_type": "markdown",
   "id": "dbf4e6cf-cdc9-465d-8d6a-50b414a3e0ce",
   "metadata": {},
   "source": [
    "#### Reflect\n",
    "Visit your repository and take a look to make sure your model uploaded. Answer the following questions:\n",
    "* Where did your model save locally (directory)?\n",
    "* What are the contents of the saved model?\n",
    "* Investigate your uploaded model."
   ]
  },
  {
   "cell_type": "code",
   "execution_count": null,
   "id": "b4d06945-a25e-48b2-a0e9-a9cd2b6778e6",
   "metadata": {},
   "outputs": [],
   "source": [
    "#it's recommended to push the final version to HF after training completes.\n"
   ]
  },
  {
   "cell_type": "markdown",
   "id": "63827fe5-6f3c-4f95-a1a5-ffcdce211fcb",
   "metadata": {
    "tags": []
   },
   "source": [
    "#### Reflect\n",
    "Visit your repository once more (you'll likely need to refresh) and check out the changes.\n",
    "* What is different from the uploads during training?\n",
    "* What do you observe about the model cards?\n",
    "\n",
    "## Fine-grained save/push access\n",
    "You can also push the model and/or tokenizer directly using the `push_to_hub` methods in their classes. You can learn more about this [in the Huggingface docs.](https://huggingface.co/course/chapter4/3?fw=pt) An example of using trainer to save your entire model locally is shown below."
   ]
  },
  {
   "cell_type": "code",
   "execution_count": null,
   "id": "3bc4ecbe-3b1c-44f3-a96c-f691536bf78a",
   "metadata": {},
   "outputs": [],
   "source": [
    "trainer.save_model('test-trainer')"
   ]
  },
  {
   "cell_type": "markdown",
   "id": "94abc5f1-076e-4167-9c85-26d77404797f",
   "metadata": {},
   "source": [
    "# 6. Using your fine-tuned model"
   ]
  },
  {
   "cell_type": "code",
   "execution_count": null,
   "id": "ca0edf1e-7ce3-450e-97dc-4abee8e6a50c",
   "metadata": {},
   "outputs": [],
   "source": [
    "#create pipeline from your classifier\n",
    "\n",
    "\n",
    "#optionally, load from HF\n",
    "#mag_classifier = pipeline('text-classification', model='charreaubell/distilbert-magazine-classifier', use_auth_token=True)\n",
    "\n",
    "#get output\n"
   ]
  },
  {
   "cell_type": "code",
   "execution_count": null,
   "id": "fc9c9088-d638-4c52-aa47-096fcc4e0065",
   "metadata": {},
   "outputs": [],
   "source": [
    "#do inference using trained model\n"
   ]
  },
  {
   "cell_type": "markdown",
   "id": "f8bd89a2-bf3c-453a-8b53-50acce211130",
   "metadata": {},
   "source": [
    "## Reflect and discuss: Breakout Rooms\n",
    "You've successfully trained a model - great job!! Now, let's focus on what YOU need to do for your task. Using the [Transformer Notebooks](https://huggingface.co/docs/transformers/notebooks) and use the `Open in Colab` badge, explore what this task looks like. Note that even if your modality is different, you may be able to directly still use these notebooks with a few changes!"
   ]
  }
 ],
 "metadata": {
  "kernelspec": {
   "display_name": "Python 3 (ipykernel)",
   "language": "python",
   "name": "python3"
  }
 },
 "nbformat": 4,
 "nbformat_minor": 5
}
